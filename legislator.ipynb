{
 "cells": [
  {
   "cell_type": "markdown",
   "id": "a94931a8-a14a-4a4a-bbc9-7a0d19cf9b93",
   "metadata": {},
   "source": [
    "# Read csv file and show the data"
   ]
  },
  {
   "cell_type": "code",
   "execution_count": 2,
   "id": "13cc7a26-f95d-42f4-bd6e-3b604f96c042",
   "metadata": {},
   "outputs": [
    {
     "data": {
      "text/html": [
       "<div>\n",
       "<style scoped>\n",
       "    .dataframe tbody tr th:only-of-type {\n",
       "        vertical-align: middle;\n",
       "    }\n",
       "\n",
       "    .dataframe tbody tr th {\n",
       "        vertical-align: top;\n",
       "    }\n",
       "\n",
       "    .dataframe thead th {\n",
       "        text-align: right;\n",
       "    }\n",
       "</style>\n",
       "<table border=\"1\" class=\"dataframe\">\n",
       "  <thead>\n",
       "    <tr style=\"text-align: right;\">\n",
       "      <th></th>\n",
       "      <th>last_name</th>\n",
       "      <th>first_name</th>\n",
       "      <th>birthday</th>\n",
       "      <th>gender</th>\n",
       "      <th>type</th>\n",
       "      <th>state</th>\n",
       "      <th>party</th>\n",
       "    </tr>\n",
       "  </thead>\n",
       "  <tbody>\n",
       "    <tr>\n",
       "      <th>0</th>\n",
       "      <td>Bassett</td>\n",
       "      <td>Richard</td>\n",
       "      <td>1745-04-02</td>\n",
       "      <td>M</td>\n",
       "      <td>sen</td>\n",
       "      <td>DE</td>\n",
       "      <td>Anti-Administration</td>\n",
       "    </tr>\n",
       "    <tr>\n",
       "      <th>1</th>\n",
       "      <td>Bland</td>\n",
       "      <td>Theodorick</td>\n",
       "      <td>1742-03-21</td>\n",
       "      <td>M</td>\n",
       "      <td>rep</td>\n",
       "      <td>VA</td>\n",
       "      <td>NaN</td>\n",
       "    </tr>\n",
       "    <tr>\n",
       "      <th>2</th>\n",
       "      <td>Burke</td>\n",
       "      <td>Aedanus</td>\n",
       "      <td>1743-06-16</td>\n",
       "      <td>M</td>\n",
       "      <td>rep</td>\n",
       "      <td>SC</td>\n",
       "      <td>NaN</td>\n",
       "    </tr>\n",
       "    <tr>\n",
       "      <th>3</th>\n",
       "      <td>Carroll</td>\n",
       "      <td>Daniel</td>\n",
       "      <td>1730-07-22</td>\n",
       "      <td>M</td>\n",
       "      <td>rep</td>\n",
       "      <td>MD</td>\n",
       "      <td>NaN</td>\n",
       "    </tr>\n",
       "    <tr>\n",
       "      <th>4</th>\n",
       "      <td>Clymer</td>\n",
       "      <td>George</td>\n",
       "      <td>1739-03-16</td>\n",
       "      <td>M</td>\n",
       "      <td>rep</td>\n",
       "      <td>PA</td>\n",
       "      <td>NaN</td>\n",
       "    </tr>\n",
       "  </tbody>\n",
       "</table>\n",
       "</div>"
      ],
      "text/plain": [
       "  last_name  first_name   birthday gender type state                party\n",
       "0   Bassett     Richard 1745-04-02      M  sen    DE  Anti-Administration\n",
       "1     Bland  Theodorick 1742-03-21      M  rep    VA                  NaN\n",
       "2     Burke     Aedanus 1743-06-16      M  rep    SC                  NaN\n",
       "3   Carroll      Daniel 1730-07-22      M  rep    MD                  NaN\n",
       "4    Clymer      George 1739-03-16      M  rep    PA                  NaN"
      ]
     },
     "execution_count": 2,
     "metadata": {},
     "output_type": "execute_result"
    }
   ],
   "source": [
    "import pandas as pd\n",
    "\n",
    "dtypes = {\n",
    "    \"first_name\": \"category\",\n",
    "    \"gender\": \"category\",\n",
    "    \"type\": \"category\",\n",
    "    \"state\": \"category\",\n",
    "    \"party\": \"category\",\n",
    "}\n",
    "df = pd.read_csv(\n",
    "    \"data/groupby/legislators-historical.csv\",\n",
    "    dtype=dtypes,\n",
    "    usecols=list(dtypes) + [\"birthday\", \"last_name\"],\n",
    "    parse_dates=[\"birthday\"],\n",
    ")\n",
    "df.head()"
   ]
  },
  {
   "cell_type": "markdown",
   "id": "9f383b46-ef40-4d05-85ce-6e634c2a35e7",
   "metadata": {},
   "source": [
    "# Show the end of data"
   ]
  },
  {
   "cell_type": "code",
   "execution_count": 3,
   "id": "6209b8d6-a7f6-43d0-9bc3-df076605a361",
   "metadata": {},
   "outputs": [
    {
     "data": {
      "text/html": [
       "<div>\n",
       "<style scoped>\n",
       "    .dataframe tbody tr th:only-of-type {\n",
       "        vertical-align: middle;\n",
       "    }\n",
       "\n",
       "    .dataframe tbody tr th {\n",
       "        vertical-align: top;\n",
       "    }\n",
       "\n",
       "    .dataframe thead th {\n",
       "        text-align: right;\n",
       "    }\n",
       "</style>\n",
       "<table border=\"1\" class=\"dataframe\">\n",
       "  <thead>\n",
       "    <tr style=\"text-align: right;\">\n",
       "      <th></th>\n",
       "      <th>last_name</th>\n",
       "      <th>first_name</th>\n",
       "      <th>birthday</th>\n",
       "      <th>gender</th>\n",
       "      <th>type</th>\n",
       "      <th>state</th>\n",
       "      <th>party</th>\n",
       "    </tr>\n",
       "  </thead>\n",
       "  <tbody>\n",
       "    <tr>\n",
       "      <th>12051</th>\n",
       "      <td>Young</td>\n",
       "      <td>Don</td>\n",
       "      <td>1933-06-09</td>\n",
       "      <td>M</td>\n",
       "      <td>rep</td>\n",
       "      <td>AK</td>\n",
       "      <td>Republican</td>\n",
       "    </tr>\n",
       "    <tr>\n",
       "      <th>12052</th>\n",
       "      <td>Fortenberry</td>\n",
       "      <td>Jeff</td>\n",
       "      <td>1960-12-27</td>\n",
       "      <td>M</td>\n",
       "      <td>rep</td>\n",
       "      <td>NE</td>\n",
       "      <td>Republican</td>\n",
       "    </tr>\n",
       "    <tr>\n",
       "      <th>12053</th>\n",
       "      <td>Vela</td>\n",
       "      <td>Filemon</td>\n",
       "      <td>1963-02-13</td>\n",
       "      <td>M</td>\n",
       "      <td>rep</td>\n",
       "      <td>TX</td>\n",
       "      <td>Democrat</td>\n",
       "    </tr>\n",
       "    <tr>\n",
       "      <th>12054</th>\n",
       "      <td>Reed</td>\n",
       "      <td>Tom</td>\n",
       "      <td>1971-11-18</td>\n",
       "      <td>M</td>\n",
       "      <td>rep</td>\n",
       "      <td>NY</td>\n",
       "      <td>Republican</td>\n",
       "    </tr>\n",
       "    <tr>\n",
       "      <th>12055</th>\n",
       "      <td>Delgado</td>\n",
       "      <td>Antonio</td>\n",
       "      <td>1977-01-19</td>\n",
       "      <td>M</td>\n",
       "      <td>rep</td>\n",
       "      <td>NY</td>\n",
       "      <td>Democrat</td>\n",
       "    </tr>\n",
       "  </tbody>\n",
       "</table>\n",
       "</div>"
      ],
      "text/plain": [
       "         last_name first_name   birthday gender type state       party\n",
       "12051        Young        Don 1933-06-09      M  rep    AK  Republican\n",
       "12052  Fortenberry       Jeff 1960-12-27      M  rep    NE  Republican\n",
       "12053         Vela    Filemon 1963-02-13      M  rep    TX    Democrat\n",
       "12054         Reed        Tom 1971-11-18      M  rep    NY  Republican\n",
       "12055      Delgado    Antonio 1977-01-19      M  rep    NY    Democrat"
      ]
     },
     "execution_count": 3,
     "metadata": {},
     "output_type": "execute_result"
    }
   ],
   "source": [
    "df.tail()"
   ]
  },
  {
   "cell_type": "markdown",
   "id": "758ba5c1-ebca-4a48-b421-26782186658c",
   "metadata": {},
   "source": [
    "## Types of data and column names"
   ]
  },
  {
   "cell_type": "code",
   "execution_count": 5,
   "id": "2a03283a-99a3-4a62-a3a6-8532a18c49d6",
   "metadata": {},
   "outputs": [
    {
     "data": {
      "text/plain": [
       "last_name             object\n",
       "first_name          category\n",
       "birthday      datetime64[ns]\n",
       "gender              category\n",
       "type                category\n",
       "state               category\n",
       "party               category\n",
       "dtype: object"
      ]
     },
     "execution_count": 5,
     "metadata": {},
     "output_type": "execute_result"
    }
   ],
   "source": [
    "df.dtypes"
   ]
  },
  {
   "cell_type": "markdown",
   "id": "bf80057b-d607-4d7e-9bb4-99b962af72dc",
   "metadata": {},
   "source": [
    "# Group by `state` column and display the first entry of all the groups formed"
   ]
  },
  {
   "cell_type": "code",
   "execution_count": 9,
   "id": "a889af20-39c2-4f6f-9830-126294dce6ff",
   "metadata": {},
   "outputs": [
    {
     "data": {
      "text/html": [
       "<div>\n",
       "<style scoped>\n",
       "    .dataframe tbody tr th:only-of-type {\n",
       "        vertical-align: middle;\n",
       "    }\n",
       "\n",
       "    .dataframe tbody tr th {\n",
       "        vertical-align: top;\n",
       "    }\n",
       "\n",
       "    .dataframe thead th {\n",
       "        text-align: right;\n",
       "    }\n",
       "</style>\n",
       "<table border=\"1\" class=\"dataframe\">\n",
       "  <thead>\n",
       "    <tr style=\"text-align: right;\">\n",
       "      <th></th>\n",
       "      <th>last_name</th>\n",
       "      <th>first_name</th>\n",
       "      <th>birthday</th>\n",
       "      <th>gender</th>\n",
       "      <th>type</th>\n",
       "      <th>party</th>\n",
       "    </tr>\n",
       "    <tr>\n",
       "      <th>state</th>\n",
       "      <th></th>\n",
       "      <th></th>\n",
       "      <th></th>\n",
       "      <th></th>\n",
       "      <th></th>\n",
       "      <th></th>\n",
       "    </tr>\n",
       "  </thead>\n",
       "  <tbody>\n",
       "    <tr>\n",
       "      <th>AK</th>\n",
       "      <td>Waskey</td>\n",
       "      <td>Frank</td>\n",
       "      <td>1875-04-20</td>\n",
       "      <td>M</td>\n",
       "      <td>rep</td>\n",
       "      <td>Democrat</td>\n",
       "    </tr>\n",
       "    <tr>\n",
       "      <th>AL</th>\n",
       "      <td>Crowell</td>\n",
       "      <td>John</td>\n",
       "      <td>1780-09-18</td>\n",
       "      <td>M</td>\n",
       "      <td>rep</td>\n",
       "      <td>Republican</td>\n",
       "    </tr>\n",
       "    <tr>\n",
       "      <th>AR</th>\n",
       "      <td>Bates</td>\n",
       "      <td>James</td>\n",
       "      <td>1788-08-25</td>\n",
       "      <td>M</td>\n",
       "      <td>rep</td>\n",
       "      <td>Democrat</td>\n",
       "    </tr>\n",
       "    <tr>\n",
       "      <th>AS</th>\n",
       "      <td>Sunia</td>\n",
       "      <td>Fofó</td>\n",
       "      <td>1937-03-13</td>\n",
       "      <td>M</td>\n",
       "      <td>rep</td>\n",
       "      <td>Democrat</td>\n",
       "    </tr>\n",
       "    <tr>\n",
       "      <th>AZ</th>\n",
       "      <td>Poston</td>\n",
       "      <td>Charles</td>\n",
       "      <td>1825-04-20</td>\n",
       "      <td>M</td>\n",
       "      <td>rep</td>\n",
       "      <td>Republican</td>\n",
       "    </tr>\n",
       "  </tbody>\n",
       "</table>\n",
       "</div>"
      ],
      "text/plain": [
       "      last_name first_name   birthday gender type       party\n",
       "state                                                        \n",
       "AK       Waskey      Frank 1875-04-20      M  rep    Democrat\n",
       "AL      Crowell       John 1780-09-18      M  rep  Republican\n",
       "AR        Bates      James 1788-08-25      M  rep    Democrat\n",
       "AS        Sunia       Fofó 1937-03-13      M  rep    Democrat\n",
       "AZ       Poston    Charles 1825-04-20      M  rep  Republican"
      ]
     },
     "execution_count": 9,
     "metadata": {},
     "output_type": "execute_result"
    }
   ],
   "source": [
    "state_df = df.groupby(\"state\")\n",
    "state_df.first().head()"
   ]
  },
  {
   "cell_type": "markdown",
   "id": "518ec86e-6bad-4427-87e7-0028f634c98b",
   "metadata": {},
   "source": [
    "# No of groups"
   ]
  },
  {
   "cell_type": "code",
   "execution_count": 14,
   "id": "6221d1d4-4834-45eb-9af2-777327d1cbf8",
   "metadata": {},
   "outputs": [
    {
     "data": {
      "text/plain": [
       "58"
      ]
     },
     "execution_count": 14,
     "metadata": {},
     "output_type": "execute_result"
    }
   ],
   "source": [
    "state_df.ngroups"
   ]
  },
  {
   "cell_type": "markdown",
   "id": "164d3a33-cdff-4435-ae42-c85355e5a723",
   "metadata": {},
   "source": [
    "# List all groups"
   ]
  },
  {
   "cell_type": "code",
   "execution_count": 15,
   "id": "0cd7d98d-2669-4cc3-93e3-6125063a4faf",
   "metadata": {},
   "outputs": [
    {
     "data": {
      "text/plain": [
       "dict_keys(['AK', 'AL', 'AR', 'AS', 'AZ', 'CA', 'CO', 'CT', 'DC', 'DE', 'DK', 'FL', 'GA', 'GU', 'HI', 'IA', 'ID', 'IL', 'IN', 'KS', 'KY', 'LA', 'MA', 'MD', 'ME', 'MI', 'MN', 'MO', 'MS', 'MT', 'NC', 'ND', 'NE', 'NH', 'NJ', 'NM', 'NV', 'NY', 'OH', 'OK', 'OL', 'OR', 'PA', 'PI', 'PR', 'RI', 'SC', 'SD', 'TN', 'TX', 'UT', 'VA', 'VI', 'VT', 'WA', 'WI', 'WV', 'WY'])"
      ]
     },
     "execution_count": 15,
     "metadata": {},
     "output_type": "execute_result"
    }
   ],
   "source": [
    "state_df.groups.keys()"
   ]
  },
  {
   "cell_type": "markdown",
   "id": "4fec17ed-69d4-45b7-97d8-307f4bb4e988",
   "metadata": {},
   "source": [
    "# Group size"
   ]
  },
  {
   "cell_type": "code",
   "execution_count": 21,
   "id": "f1e48156-cbf0-4cd5-910e-1496ae0f3b8b",
   "metadata": {},
   "outputs": [
    {
     "data": {
      "text/plain": [
       "state\n",
       "AK     17\n",
       "AL    209\n",
       "AR    117\n",
       "AS      2\n",
       "AZ     49\n",
       "dtype: int64"
      ]
     },
     "execution_count": 21,
     "metadata": {},
     "output_type": "execute_result"
    }
   ],
   "source": [
    "state_df.size().head(5)"
   ]
  },
  {
   "cell_type": "markdown",
   "id": "d8f3ce39-090b-4e33-a05c-793b31500e13",
   "metadata": {},
   "source": [
    "# Finding the values contained in the `IL` inside the state group"
   ]
  },
  {
   "cell_type": "code",
   "execution_count": 8,
   "id": "66fb7029-c689-4df2-8f95-1508f23a978f",
   "metadata": {},
   "outputs": [
    {
     "data": {
      "text/html": [
       "<div>\n",
       "<style scoped>\n",
       "    .dataframe tbody tr th:only-of-type {\n",
       "        vertical-align: middle;\n",
       "    }\n",
       "\n",
       "    .dataframe tbody tr th {\n",
       "        vertical-align: top;\n",
       "    }\n",
       "\n",
       "    .dataframe thead th {\n",
       "        text-align: right;\n",
       "    }\n",
       "</style>\n",
       "<table border=\"1\" class=\"dataframe\">\n",
       "  <thead>\n",
       "    <tr style=\"text-align: right;\">\n",
       "      <th></th>\n",
       "      <th>last_name</th>\n",
       "      <th>first_name</th>\n",
       "      <th>birthday</th>\n",
       "      <th>gender</th>\n",
       "      <th>type</th>\n",
       "      <th>state</th>\n",
       "      <th>party</th>\n",
       "    </tr>\n",
       "  </thead>\n",
       "  <tbody>\n",
       "    <tr>\n",
       "      <th>595</th>\n",
       "      <td>Bond</td>\n",
       "      <td>Shadrack</td>\n",
       "      <td>1773-11-24</td>\n",
       "      <td>M</td>\n",
       "      <td>rep</td>\n",
       "      <td>IL</td>\n",
       "      <td>NaN</td>\n",
       "    </tr>\n",
       "    <tr>\n",
       "      <th>772</th>\n",
       "      <td>Stephenson</td>\n",
       "      <td>Benjamin</td>\n",
       "      <td>NaT</td>\n",
       "      <td>M</td>\n",
       "      <td>rep</td>\n",
       "      <td>IL</td>\n",
       "      <td>NaN</td>\n",
       "    </tr>\n",
       "    <tr>\n",
       "      <th>860</th>\n",
       "      <td>Pope</td>\n",
       "      <td>Nathaniel</td>\n",
       "      <td>1784-01-05</td>\n",
       "      <td>M</td>\n",
       "      <td>rep</td>\n",
       "      <td>IL</td>\n",
       "      <td>NaN</td>\n",
       "    </tr>\n",
       "    <tr>\n",
       "      <th>889</th>\n",
       "      <td>Edwards</td>\n",
       "      <td>Ninian</td>\n",
       "      <td>1775-03-17</td>\n",
       "      <td>M</td>\n",
       "      <td>sen</td>\n",
       "      <td>IL</td>\n",
       "      <td>Republican</td>\n",
       "    </tr>\n",
       "    <tr>\n",
       "      <th>1145</th>\n",
       "      <td>Thomas</td>\n",
       "      <td>Jesse</td>\n",
       "      <td>NaT</td>\n",
       "      <td>M</td>\n",
       "      <td>sen</td>\n",
       "      <td>IL</td>\n",
       "      <td>Adams</td>\n",
       "    </tr>\n",
       "    <tr>\n",
       "      <th>...</th>\n",
       "      <td>...</td>\n",
       "      <td>...</td>\n",
       "      <td>...</td>\n",
       "      <td>...</td>\n",
       "      <td>...</td>\n",
       "      <td>...</td>\n",
       "      <td>...</td>\n",
       "    </tr>\n",
       "    <tr>\n",
       "      <th>11901</th>\n",
       "      <td>Gutiérrez</td>\n",
       "      <td>Luis</td>\n",
       "      <td>1953-12-10</td>\n",
       "      <td>M</td>\n",
       "      <td>rep</td>\n",
       "      <td>IL</td>\n",
       "      <td>Democrat</td>\n",
       "    </tr>\n",
       "    <tr>\n",
       "      <th>11904</th>\n",
       "      <td>Hultgren</td>\n",
       "      <td>Randy</td>\n",
       "      <td>1966-03-01</td>\n",
       "      <td>M</td>\n",
       "      <td>rep</td>\n",
       "      <td>IL</td>\n",
       "      <td>Republican</td>\n",
       "    </tr>\n",
       "    <tr>\n",
       "      <th>11922</th>\n",
       "      <td>Roskam</td>\n",
       "      <td>Peter</td>\n",
       "      <td>1961-09-13</td>\n",
       "      <td>M</td>\n",
       "      <td>rep</td>\n",
       "      <td>IL</td>\n",
       "      <td>Republican</td>\n",
       "    </tr>\n",
       "    <tr>\n",
       "      <th>11993</th>\n",
       "      <td>Lipinski</td>\n",
       "      <td>Daniel</td>\n",
       "      <td>1966-07-15</td>\n",
       "      <td>M</td>\n",
       "      <td>rep</td>\n",
       "      <td>IL</td>\n",
       "      <td>Democrat</td>\n",
       "    </tr>\n",
       "    <tr>\n",
       "      <th>12003</th>\n",
       "      <td>Shimkus</td>\n",
       "      <td>John</td>\n",
       "      <td>1958-02-21</td>\n",
       "      <td>M</td>\n",
       "      <td>rep</td>\n",
       "      <td>IL</td>\n",
       "      <td>Republican</td>\n",
       "    </tr>\n",
       "  </tbody>\n",
       "</table>\n",
       "<p>488 rows × 7 columns</p>\n",
       "</div>"
      ],
      "text/plain": [
       "        last_name first_name   birthday gender type state       party\n",
       "595          Bond   Shadrack 1773-11-24      M  rep    IL         NaN\n",
       "772    Stephenson   Benjamin        NaT      M  rep    IL         NaN\n",
       "860          Pope  Nathaniel 1784-01-05      M  rep    IL         NaN\n",
       "889       Edwards     Ninian 1775-03-17      M  sen    IL  Republican\n",
       "1145       Thomas      Jesse        NaT      M  sen    IL       Adams\n",
       "...           ...        ...        ...    ...  ...   ...         ...\n",
       "11901   Gutiérrez       Luis 1953-12-10      M  rep    IL    Democrat\n",
       "11904    Hultgren      Randy 1966-03-01      M  rep    IL  Republican\n",
       "11922      Roskam      Peter 1961-09-13      M  rep    IL  Republican\n",
       "11993    Lipinski     Daniel 1966-07-15      M  rep    IL    Democrat\n",
       "12003     Shimkus       John 1958-02-21      M  rep    IL  Republican\n",
       "\n",
       "[488 rows x 7 columns]"
      ]
     },
     "execution_count": 8,
     "metadata": {},
     "output_type": "execute_result"
    }
   ],
   "source": [
    "state_df.get_group(\"IL\")"
   ]
  },
  {
   "cell_type": "code",
   "execution_count": 26,
   "id": "c8a8c3f9-6df2-4197-816b-63caeff46958",
   "metadata": {},
   "outputs": [
    {
     "data": {
      "text/html": [
       "<div>\n",
       "<style scoped>\n",
       "    .dataframe tbody tr th:only-of-type {\n",
       "        vertical-align: middle;\n",
       "    }\n",
       "\n",
       "    .dataframe tbody tr th {\n",
       "        vertical-align: top;\n",
       "    }\n",
       "\n",
       "    .dataframe thead th {\n",
       "        text-align: right;\n",
       "    }\n",
       "</style>\n",
       "<table border=\"1\" class=\"dataframe\">\n",
       "  <thead>\n",
       "    <tr style=\"text-align: right;\">\n",
       "      <th></th>\n",
       "      <th>count</th>\n",
       "    </tr>\n",
       "    <tr>\n",
       "      <th>state</th>\n",
       "      <th></th>\n",
       "    </tr>\n",
       "  </thead>\n",
       "  <tbody>\n",
       "    <tr>\n",
       "      <th>NY</th>\n",
       "      <td>1469</td>\n",
       "    </tr>\n",
       "    <tr>\n",
       "      <th>PA</th>\n",
       "      <td>1053</td>\n",
       "    </tr>\n",
       "    <tr>\n",
       "      <th>OH</th>\n",
       "      <td>676</td>\n",
       "    </tr>\n",
       "    <tr>\n",
       "      <th>IL</th>\n",
       "      <td>488</td>\n",
       "    </tr>\n",
       "    <tr>\n",
       "      <th>VA</th>\n",
       "      <td>433</td>\n",
       "    </tr>\n",
       "  </tbody>\n",
       "</table>\n",
       "</div>"
      ],
      "text/plain": [
       "       count\n",
       "state       \n",
       "NY      1469\n",
       "PA      1053\n",
       "OH       676\n",
       "IL       488\n",
       "VA       433"
      ]
     },
     "execution_count": 26,
     "metadata": {},
     "output_type": "execute_result"
    }
   ],
   "source": [
    "state_df.last_name.agg([\"count\"]).sort_values(by=[\"count\"], ascending=False).head(5)"
   ]
  },
  {
   "cell_type": "code",
   "execution_count": null,
   "id": "302fa801-4253-457e-a881-bd31e24e3de5",
   "metadata": {},
   "outputs": [],
   "source": []
  }
 ],
 "metadata": {
  "kernelspec": {
   "display_name": "Python 3 (ipykernel)",
   "language": "python",
   "name": "python3"
  },
  "language_info": {
   "codemirror_mode": {
    "name": "ipython",
    "version": 3
   },
   "file_extension": ".py",
   "mimetype": "text/x-python",
   "name": "python",
   "nbconvert_exporter": "python",
   "pygments_lexer": "ipython3",
   "version": "3.10.5"
  }
 },
 "nbformat": 4,
 "nbformat_minor": 5
}
