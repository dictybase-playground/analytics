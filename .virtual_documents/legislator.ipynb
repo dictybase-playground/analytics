import pandas as pd

dtypes = {
    "first_name": "category",
    "gender": "category",
    "type": "category",
    "state": "category",
    "party": "category",
}
df = pd.read_csv(
    "data/groupby/legislators-historical.csv",
    dtype=dtypes,
    usecols=list(dtypes) + ["birthday", "last_name"],
    parse_dates=["birthday"],
)
df.head()


df.tail()


df.dtypes


state_df = df.groupby("state")
state_df.first().head()


state_df.ngroups


state_df.groups.keys()


state_df.size().head(5)


state_df.get_group("IL")


state_df.last_name.agg(["count"]).sort_values(by=["count"], ascending=False).head(5)



